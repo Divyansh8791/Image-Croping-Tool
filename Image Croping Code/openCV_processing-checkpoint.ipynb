{
 "cells": [
  {
   "cell_type": "code",
   "execution_count": 98,
   "id": "c4fc8383-92e0-4717-b1c5-ced8bd1f06c4",
   "metadata": {},
   "outputs": [],
   "source": [
    "import cv2\n",
    "import numpy\n",
    "import pandas "
   ]
  },
  {
   "cell_type": "code",
   "execution_count": 99,
   "id": "5b53ea01-079e-43d9-84f4-8f0da8a75eda",
   "metadata": {},
   "outputs": [
    {
     "name": "stdout",
     "output_type": "stream",
     "text": [
      "(4500, 3000, 3)\n"
     ]
    }
   ],
   "source": [
    "file_path = r\"C:\\Users\\12348\\OneDrive\\Pictures\\try_man2.jpeg\"\n",
    "img = cv2.imread(file_path)\n",
    "print(img.shape)"
   ]
  },
  {
   "cell_type": "code",
   "execution_count": 100,
   "id": "2991c1c4-cf6f-4b7e-abd3-5b13a34828c5",
   "metadata": {},
   "outputs": [
    {
     "data": {
      "text/plain": [
       "120"
      ]
     },
     "execution_count": 100,
     "metadata": {},
     "output_type": "execute_result"
    }
   ],
   "source": [
    "cv2.imshow(\"window\" , img)\n",
    "cv2.waitKey(0)"
   ]
  },
  {
   "cell_type": "code",
   "execution_count": 115,
   "id": "b86b7c85-3788-4222-bb4a-ec529f415823",
   "metadata": {},
   "outputs": [],
   "source": [
    "cv2.destroyAllWindows()\n"
   ]
  },
  {
   "cell_type": "code",
   "execution_count": 102,
   "id": "75d66f8d-5c6a-435e-afc1-1548463d283e",
   "metadata": {},
   "outputs": [
    {
     "data": {
      "text/plain": [
       "120"
      ]
     },
     "execution_count": 102,
     "metadata": {},
     "output_type": "execute_result"
    }
   ],
   "source": [
    "resized_img = cv2.resize(img, (300, 300))\n",
    "cv2.imshow(\"Resized Image\", resized_img)\n",
    "cv2.waitKey(0)"
   ]
  },
  {
   "cell_type": "code",
   "execution_count": 103,
   "id": "8ce44fd3-dadb-4f4e-b9ae-cbda5c9230b6",
   "metadata": {},
   "outputs": [
    {
     "data": {
      "text/plain": [
       "32"
      ]
     },
     "execution_count": 103,
     "metadata": {},
     "output_type": "execute_result"
    }
   ],
   "source": [
    "gray_img = cv2.cvtColor(resized_img , cv2.COLOR_BGR2GRAY)\n",
    "cv2.imshow(\"gray_img \", gray_img)\n",
    "cv2.waitKey(0)"
   ]
  },
  {
   "cell_type": "code",
   "execution_count": 104,
   "id": "5b41bb4d-76e8-4baa-ae0e-e36b090c4468",
   "metadata": {},
   "outputs": [],
   "source": [
    "# RESIZING BY PERCENTAGE\n",
    "# img_resize = cv2.resize(img,(img.shape[1]//2 , img.shape[0]//2)) # 50%\n",
    "img_resize = cv2.resize(img,(img.shape[1]//8 , img.shape[0]//8)) # 25%\n",
    "cv2.imshow(\"img_resize \", img_resize)\n",
    "cv2.waitKey(0)\n",
    "cv2.destroyAllWindows()\n"
   ]
  },
  {
   "cell_type": "code",
   "execution_count": 105,
   "id": "98218114-55b0-4213-a392-9ad9b19423c5",
   "metadata": {},
   "outputs": [],
   "source": [
    "# flip image by 180 degree\n",
    "flip_img = cv2.flip(img_resize , 0)\n",
    "cv2.imshow(\"window\" , flip_img)\n",
    "cv2.waitKey(0)\n",
    "cv2.destroyAllWindows()"
   ]
  },
  {
   "cell_type": "code",
   "execution_count": 106,
   "id": "fa35c04c-2417-4b13-8c85-98580d9e5594",
   "metadata": {},
   "outputs": [],
   "source": [
    "# flip image by Horizontal\n",
    "flip_img = cv2.flip(img_resize , 1)\n",
    "cv2.imshow(\"window\" , flip_img)\n",
    "cv2.waitKey(0)\n",
    "cv2.destroyAllWindows()"
   ]
  },
  {
   "cell_type": "code",
   "execution_count": 107,
   "id": "8c7ca30a-7fa8-4ab0-98bf-c787fed1b4a6",
   "metadata": {},
   "outputs": [],
   "source": [
    "# flip image by vertically\n",
    "flip_img = cv2.flip(img_resize , -1)\n",
    "cv2.imshow(\"window\" , flip_img)\n",
    "cv2.waitKey(0)\n",
    "cv2.destroyAllWindows()"
   ]
  },
  {
   "cell_type": "code",
   "execution_count": 108,
   "id": "018279b8-3da9-4da4-97b8-42e5a0fcddc2",
   "metadata": {},
   "outputs": [],
   "source": [
    "# croping the image is nothing but the slicing of the image using numpy slicing\n",
    "crop_img = resized_img[100:300 , 200:400]\n",
    "cv2.imshow(\"window\" , crop_img)\n",
    "cv2.waitKey(0)\n",
    "cv2.destroyAllWindows()\n"
   ]
  },
  {
   "cell_type": "code",
   "execution_count": 109,
   "id": "41c98dc2-6dc4-4a29-a65e-e786c2b42829",
   "metadata": {},
   "outputs": [
    {
     "data": {
      "text/plain": [
       "True"
      ]
     },
     "execution_count": 109,
     "metadata": {},
     "output_type": "execute_result"
    }
   ],
   "source": [
    "# Saving an image \n",
    "cv2.imwrite(\"Saved_image.png\" , crop_img)"
   ]
  },
  {
   "cell_type": "code",
   "execution_count": 110,
   "id": "55b5e8c9-7697-4fca-9a0a-8c01000de8b6",
   "metadata": {},
   "outputs": [],
   "source": [
    "img2 = numpy.zeros((512 ,512, 3))\n",
    "cv2.rectangle(img2 , pt1 = (100 ,100), pt2 = (400 , 400) , color = (0 , 0 , 100) , thickness = -1)\n",
    "cv2.circle(img2 , center = (250 , 250) , radius = 100 , color = (0,255,0) , thickness = 2)\n",
    "cv2.line(img2 , pt1 = (100 ,100), pt2 = (400 , 400) , color = (255 , 0 , 0) , thickness = 2)\n",
    "cv2.putText(img2 , org = (200 , 200) , fontScale =2 , fontFace = cv2.FONT_ITALIC ,color = (255,255,0) , thickness =2 , lineType = cv2.LINE_AA ,text =\"Divyansh\")\n",
    "cv2.imshow(\"window\" , img2)\n",
    "cv2.waitKey(0)\n",
    "cv2.destroyAllWindows()\n"
   ]
  },
  {
   "cell_type": "code",
   "execution_count": 198,
   "id": "180d4f26-97a9-4348-af6e-466e646d8a0b",
   "metadata": {},
   "outputs": [],
   "source": [
    "# creating a rectangle \n",
    "# cv2.rectangle(img2 , pt1 = (100 ,100), pt2 = (400 , 400) , color = (123 , 189 , 111) , thickness = 3)\n",
    "# cv2.circle(img2 , center = (400 , 400) , radius = 100 , color = (0,255,0) , thickness = -1)\n",
    "# cv2.line(img2 , pt1 = (100 ,100), pt2 = (400 , 400) , color = (255 , 0 , 0) , thickness = 2)\n",
    "# cv2.putText(img2 , org = (200 , 200) , fontScale =2 , fontFace = cv2.FONT_ITALIC ,color = (255,255,0) , thickness =2 , lineType = cv2.LINE_AA ,text =\"Divyansh\")\n",
    "\n"
   ]
  },
  {
   "cell_type": "code",
   "execution_count": null,
   "id": "9322fb9e-99b3-45a0-bded-3b7f56431dd1",
   "metadata": {},
   "outputs": [],
   "source": [
    "# interacting with images \n",
    "flag = False\n",
    "ix = -1\n",
    "iy = -1\n",
    "def draw_rect(event, x, y, flags , params):\n",
    "    global flag,ix,iy\n",
    "    \n",
    "    if event == 1:\n",
    "        flag = True\n",
    "        ix = x\n",
    "        iy = y\n",
    "        \n",
    "    elif event == 0:\n",
    "        if flag == True:\n",
    "            cv2.rectangle(img3 , pt1 = (ix ,iy), pt2 = (x , y) , color = (123 , 189 , 111) , thickness = -1)\n",
    "\n",
    "    elif event == 4:\n",
    "        flag = False\n",
    "        cv2.rectangle(img3 , pt1 = (ix ,iy), pt2 = (x , y) , color = (123 , 189 , 111) , thickness = -1)\n",
    "\n",
    "def draw(event , x , y, flags , params):\n",
    "    if event == 1:\n",
    "        cv2.circle(img3 , center = (x , y) , radius = 100 , color = (0,255,0) , thickness = 3)\n",
    "        \n",
    "cv2.namedWindow(winname = \"window\")\n",
    "cv2.setMouseCallback(\"window\" , draw_rect)\n",
    "\n",
    "img3 = numpy.zeros((512, 512 ,3))\n",
    "\n",
    "\n",
    "while True:\n",
    "    cv2.imshow(\"wondow\" , img3)\n",
    "    if cv2.waitKey(1) & 0xff == ord('x') : \n",
    "        break\n",
    "        \n",
    "cv2.destroyAllWindows() "
   ]
  },
  {
   "cell_type": "code",
   "execution_count": 197,
   "id": "f6eb8d01-27ee-4cc1-8e99-b7f3d78e2b4a",
   "metadata": {},
   "outputs": [
    {
     "ename": "NameError",
     "evalue": "name 'croped_img' is not defined",
     "output_type": "error",
     "traceback": [
      "\u001b[1;31m---------------------------------------------------------------------------\u001b[0m",
      "\u001b[1;31mNameError\u001b[0m                                 Traceback (most recent call last)",
      "Cell \u001b[1;32mIn[197], line 19\u001b[0m, in \u001b[0;36mcrop_and_save\u001b[1;34m(event, x, y, flags, params)\u001b[0m\n\u001b[0;32m     17\u001b[0m flag \u001b[38;5;241m=\u001b[39m \u001b[38;5;28;01mFalse\u001b[39;00m\n\u001b[0;32m     18\u001b[0m croped_image \u001b[38;5;241m=\u001b[39m img4[iy:y , ix:x]\n\u001b[1;32m---> 19\u001b[0m cv2\u001b[38;5;241m.\u001b[39mimshow(\u001b[38;5;124m\"\u001b[39m\u001b[38;5;124mwindow\u001b[39m\u001b[38;5;124m\"\u001b[39m , \u001b[43mcroped_img\u001b[49m)\n\u001b[0;32m     20\u001b[0m cv2\u001b[38;5;241m.\u001b[39mwaitKey(\u001b[38;5;241m0\u001b[39m)\n\u001b[0;32m     21\u001b[0m cv2\u001b[38;5;241m.\u001b[39mdestroyAllWindows()\n",
      "\u001b[1;31mNameError\u001b[0m: name 'croped_img' is not defined"
     ]
    },
    {
     "ename": "NameError",
     "evalue": "name 'croped_img' is not defined",
     "output_type": "error",
     "traceback": [
      "\u001b[1;31m---------------------------------------------------------------------------\u001b[0m",
      "\u001b[1;31mNameError\u001b[0m                                 Traceback (most recent call last)",
      "Cell \u001b[1;32mIn[197], line 19\u001b[0m, in \u001b[0;36mcrop_and_save\u001b[1;34m(event, x, y, flags, params)\u001b[0m\n\u001b[0;32m     17\u001b[0m flag \u001b[38;5;241m=\u001b[39m \u001b[38;5;28;01mFalse\u001b[39;00m\n\u001b[0;32m     18\u001b[0m croped_image \u001b[38;5;241m=\u001b[39m img4[iy:y , ix:x]\n\u001b[1;32m---> 19\u001b[0m cv2\u001b[38;5;241m.\u001b[39mimshow(\u001b[38;5;124m\"\u001b[39m\u001b[38;5;124mwindow\u001b[39m\u001b[38;5;124m\"\u001b[39m , \u001b[43mcroped_img\u001b[49m)\n\u001b[0;32m     20\u001b[0m cv2\u001b[38;5;241m.\u001b[39mwaitKey(\u001b[38;5;241m0\u001b[39m)\n\u001b[0;32m     21\u001b[0m cv2\u001b[38;5;241m.\u001b[39mdestroyAllWindows()\n",
      "\u001b[1;31mNameError\u001b[0m: name 'croped_img' is not defined"
     ]
    }
   ],
   "source": [
    "file_path = r\"C:\\Users\\12348\\OneDrive\\Pictures\\try_man2.jpeg\"\n",
    "temp = cv2.imread(file_path)\n",
    "img4 = cv2.resize(img, (800, 800))\n",
    "\n",
    "flag = False\n",
    "ix = -1\n",
    "iy = -1\n",
    "croped_image = img4[0:0 , 0:0]\n",
    "def crop_and_save(event , x, y, flags , params):\n",
    "    global flag, ix, iy , croped_image\n",
    "    if event == 1:\n",
    "        flag = True\n",
    "        ix = x\n",
    "        iy = y\n",
    "        \n",
    "    elif event == 4:\n",
    "        flag = False\n",
    "        croped_image = img4[iy:y , ix:x]\n",
    "        cv2.imshow(\"window\" , croped_img)\n",
    "        cv2.waitKey(0)\n",
    "        cv2.destroyAllWindows()\n",
    "        cv2.rectangle(img4 , pt1 = (ix ,iy), pt2 = (x , y) , color = (0 , 0 , 0) , thickness = 2)\n",
    "\n",
    "cv2.namedWindow(winname = \"window\")\n",
    "cv2.setMouseCallback(\"window\" , crop_and_save)\n",
    "\n",
    "while True:\n",
    "    cv2.imshow(\"wondow\" , img4)\n",
    "    if cv2.waitKey(1) & 0xff == ord('x') : \n",
    "        break\n",
    "        \n",
    "cv2.destroyAllWindows()"
   ]
  },
  {
   "cell_type": "code",
   "execution_count": null,
   "id": "0e662a89-1ac7-436b-8ec2-7446d05b19a8",
   "metadata": {},
   "outputs": [],
   "source": []
  }
 ],
 "metadata": {
  "kernelspec": {
   "display_name": "Python 3 (ipykernel)",
   "language": "python",
   "name": "python3"
  },
  "language_info": {
   "codemirror_mode": {
    "name": "ipython",
    "version": 3
   },
   "file_extension": ".py",
   "mimetype": "text/x-python",
   "name": "python",
   "nbconvert_exporter": "python",
   "pygments_lexer": "ipython3",
   "version": "3.12.1"
  }
 },
 "nbformat": 4,
 "nbformat_minor": 5
}
